{
 "cells": [
  {
   "cell_type": "code",
   "execution_count": 1,
   "metadata": {},
   "outputs": [
    {
     "name": "stdout",
     "output_type": "stream",
     "text": [
      "Grayscale image saved as 'grey_image.png'\n"
     ]
    }
   ],
   "source": [
    "import cv2\n",
    "import numpy as np\n",
    "\n",
    "# Create a 200x200 grayscale image with random intensity values\n",
    "grey_image = np.random.randint(0, 256, (100, 100), dtype=np.uint8)\n",
    "\n",
    "# Save the grayscale image to a file\n",
    "cv2.imwrite('grey_image.png', grey_image)\n",
    "\n",
    "# Optionally, you can also display the file path\n",
    "print(\"Grayscale image saved as 'grey_image.png'\")\n"
   ]
  }
 ],
 "metadata": {
  "kernelspec": {
   "display_name": "Python 3",
   "language": "python",
   "name": "python3"
  },
  "language_info": {
   "codemirror_mode": {
    "name": "ipython",
    "version": 3
   },
   "file_extension": ".py",
   "mimetype": "text/x-python",
   "name": "python",
   "nbconvert_exporter": "python",
   "pygments_lexer": "ipython3",
   "version": "3.11.8"
  }
 },
 "nbformat": 4,
 "nbformat_minor": 2
}
