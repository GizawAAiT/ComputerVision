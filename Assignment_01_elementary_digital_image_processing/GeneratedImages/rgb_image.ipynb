{
 "cells": [
  {
   "cell_type": "code",
   "execution_count": 1,
   "metadata": {},
   "outputs": [
    {
     "name": "stdout",
     "output_type": "stream",
     "text": [
      "RGB image saved as 'rgb_image.png'\n"
     ]
    }
   ],
   "source": [
    "import cv2\n",
    "import numpy as np\n",
    "\n",
    "# Create a 100X100 RGB image with random color values\n",
    "rgb_image = np.random.randint(0, 256, (100, 100, 3), dtype=np.uint8)\n",
    "\n",
    "# Save the RGB image to a file\n",
    "cv2.imwrite('rgb_image.png', rgb_image)\n",
    "\n",
    "print(\"RGB image saved as 'rgb_image.png'\")\n"
   ]
  }
 ],
 "metadata": {
  "kernelspec": {
   "display_name": "Python 3",
   "language": "python",
   "name": "python3"
  },
  "language_info": {
   "codemirror_mode": {
    "name": "ipython",
    "version": 3
   },
   "file_extension": ".py",
   "mimetype": "text/x-python",
   "name": "python",
   "nbconvert_exporter": "python",
   "pygments_lexer": "ipython3",
   "version": "3.11.8"
  }
 },
 "nbformat": 4,
 "nbformat_minor": 2
}
